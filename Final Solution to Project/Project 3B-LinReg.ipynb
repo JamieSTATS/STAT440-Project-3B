{
 "cells": [
  {
   "cell_type": "code",
   "execution_count": 10,
   "id": "99ee9434",
   "metadata": {},
   "outputs": [],
   "source": [
    "import pandas as pd\n",
    "import numpy as np\n",
    "import matplotlib.pyplot as plt\n",
    "%matplotlib inline\n",
    "from sklearn.preprocessing import StandardScaler\n",
    "import seaborn as sns\n",
    "from scipy import stats"
   ]
  },
  {
   "cell_type": "code",
   "execution_count": 11,
   "id": "e4b59618",
   "metadata": {},
   "outputs": [],
   "source": [
    "# https://stackoverflow.com/questions/21546739/load-data-from-txt-with-pandas\n",
    "#https://stackoverflow.com/questions/40011531/in-pandas-when-using-read-csv-how-to-assign-a-nan-to-a-value-thats-not-the\n",
    "\n",
    "\n",
    "\n",
    "# Read data, change missing values to 'NaN'\n",
    "#Note: All files are unedited from Kaggle\n",
    "\n",
    "Xtrain_raw = pd.read_csv('Xtrain.txt', sep =\" \", index_col=0, dtype='float64',\n",
    "                    na_values=['?','NaN'])\n",
    "Xtest_raw = pd.read_csv('Xtest.txt', sep =\" \", index_col=0, dtype='float64',\n",
    "                    na_values=['?','NaN'])\n",
    "\n",
    "Ytrain_raw = pd.read_csv('Ytrain.txt', sep =\",\", index_col=0, dtype='float64',\n",
    "                    na_values=['?','NaN'])"
   ]
  },
  {
   "cell_type": "code",
   "execution_count": 12,
   "id": "c5bbc8aa",
   "metadata": {},
   "outputs": [
    {
     "data": {
      "text/plain": [
       "(153287, 1)"
      ]
     },
     "execution_count": 12,
     "metadata": {},
     "output_type": "execute_result"
    }
   ],
   "source": [
    "#check the dimensions of the data\n",
    "\n",
    "Ytrain_raw.shape"
   ]
  },
  {
   "cell_type": "code",
   "execution_count": 13,
   "id": "d4847028",
   "metadata": {},
   "outputs": [
    {
     "data": {
      "text/plain": [
       "(153287, 75)"
      ]
     },
     "execution_count": 13,
     "metadata": {},
     "output_type": "execute_result"
    }
   ],
   "source": [
    "Xtrain_raw.shape"
   ]
  },
  {
   "cell_type": "code",
   "execution_count": 14,
   "id": "2dd0c4f9",
   "metadata": {},
   "outputs": [
    {
     "data": {
      "text/plain": [
       "(50000, 75)"
      ]
     },
     "execution_count": 14,
     "metadata": {},
     "output_type": "execute_result"
    }
   ],
   "source": [
    "Xtest_raw.shape\n"
   ]
  },
  {
   "cell_type": "code",
   "execution_count": 26,
   "id": "efdffb4f",
   "metadata": {},
   "outputs": [],
   "source": [
    "#https://stackoverflow.com/questions/51207491/function-to-replace-nan-values-in-a-dataframe-with-mean-of-the-related-column\n",
    "#Replace NaN with column means in Xtrain\n",
    "\n",
    "Xtrain_filled = Xtrain_raw.apply(lambda x: x.fillna(x.mean())) \n",
    "#print(Xtrain_filled.info())"
   ]
  },
  {
   "cell_type": "code",
   "execution_count": 27,
   "id": "9f62b7d6",
   "metadata": {},
   "outputs": [],
   "source": [
    "#Do the same for other data-sets\n",
    "\n",
    "Ytrain_filled = Ytrain_raw.apply(lambda x: x.fillna(x.mean())) \n",
    "Xtest_filled = Xtest_raw.apply(lambda x: x.fillna(x.mean())) "
   ]
  },
  {
   "cell_type": "code",
   "execution_count": 28,
   "id": "2bbea8c0",
   "metadata": {},
   "outputs": [],
   "source": [
    "#Drop Junk Data\n",
    "\n",
    "Xtest_clean=Xtest_filled.drop(labels=[ '#H04', '#H05', '#H06', '#H07', '#H08', '#H09','#I01', '#I02', '#I03','#I04'], axis=1)\n",
    "Xtrain_clean=Xtrain_filled.drop(labels=[ '#H04', '#H05', '#H06', '#H07', '#H08', '#H09','#I01', '#I02', '#I03','#I04'], axis=1)"
   ]
  },
  {
   "cell_type": "code",
   "execution_count": 29,
   "id": "7b628bbb",
   "metadata": {},
   "outputs": [],
   "source": [
    "#Concatenate the training and \n",
    "\n",
    "X_filled = pd.concat([Xtrain_clean, Xtest_clean])\n",
    "#print('X_filled shape: ', Xtest_filled.shape)\n"
   ]
  },
  {
   "cell_type": "code",
   "execution_count": 30,
   "id": "c598b682",
   "metadata": {},
   "outputs": [],
   "source": [
    "X_sorted = X_filled.sort_index(axis=0)\n",
    "#X_sorted.info()"
   ]
  },
  {
   "cell_type": "code",
   "execution_count": 31,
   "id": "1ef2a52c",
   "metadata": {},
   "outputs": [
    {
     "name": "stdout",
     "output_type": "stream",
     "text": [
      "              #A01      #A02      #B01      #B02      #B03      #B04  \\\n",
      "Id                                                                     \n",
      "2.0      -0.067006  2.000400 -0.181087 -0.288238 -0.026722 -1.332320   \n",
      "3.0      -0.238565 -1.755040 -0.562340 -1.943580  0.135810 -0.027425   \n",
      "4.0      -0.900302  0.760359 -0.566809  0.843982  0.902949 -0.298859   \n",
      "5.0       0.448940 -0.530155 -0.723218  0.014280  0.175458  0.932137   \n",
      "7.0      -0.096147  0.123017 -0.269223  0.229115 -0.041637 -0.070465   \n",
      "...            ...       ...       ...       ...       ...       ...   \n",
      "177724.0 -0.341901 -0.307778  0.599235  0.580111 -0.033728 -0.038976   \n",
      "177725.0  1.284220  0.592979 -0.621695 -0.009792 -0.382274 -0.664959   \n",
      "177727.0  0.454239  1.059110 -0.034778 -0.297135  0.171074 -0.324943   \n",
      "177729.0 -0.336121  0.218963  0.985771 -0.834321 -1.452110 -0.290119   \n",
      "177730.0 -0.202946  0.004449 -0.403091  0.019818  1.420010 -1.087600   \n",
      "\n",
      "              #B05      #B06      #B07      #B08  ...      #F10      #F11  \\\n",
      "Id                                                ...                       \n",
      "2.0      -0.478257  1.672440 -2.526620 -9.000000  ...  0.178045  0.329594   \n",
      "3.0      -0.952346 -0.030758 -0.745675 -1.729910  ...  0.568945  0.205302   \n",
      "4.0      -0.032618 -2.648990  1.090920 -1.496180  ...  0.773529  0.831165   \n",
      "5.0       0.350433 -1.143190 -0.024211  1.157120  ...  0.939611  0.823171   \n",
      "7.0      -0.198871  0.206065 -0.289754  1.130150  ...  0.203836  0.013136   \n",
      "...            ...       ...       ...       ...  ...       ...       ...   \n",
      "177724.0 -0.274740 -0.276337  2.676090 -0.032354  ...  0.389514  0.535839   \n",
      "177725.0  0.836545 -0.166343 -0.713656 -0.458630  ...  0.529564  0.345909   \n",
      "177727.0 -0.719373 -0.747009 -0.886229 -0.032354  ...  0.414126  0.087791   \n",
      "177729.0  0.341428  0.215726 -0.041701 -0.881958  ...  0.009942  0.013119   \n",
      "177730.0  0.493069  0.057705 -1.279380  0.715570  ...  0.163284  0.470609   \n",
      "\n",
      "              #F12  #G01  #G02  #G03      #H01      #H02      #H03      Value  \n",
      "Id                                                                             \n",
      "2.0       0.606314   0.0   0.0   0.0 -1.334800  1.371420  0.052319  54.487331  \n",
      "3.0       0.412246  -0.0  -0.0  -0.0  0.588824 -0.815730  0.130094  63.351648  \n",
      "4.0       0.841522   0.0   0.0   0.0 -0.440171 -1.232990  1.458580  27.984377  \n",
      "5.0       0.320116   0.0   0.0  -0.0 -2.101000  1.384520  0.527246  31.723970  \n",
      "7.0       0.825592   0.0   0.0  -0.0 -0.154242  1.074310 -0.959487  20.746050  \n",
      "...            ...   ...   ...   ...       ...       ...       ...        ...  \n",
      "177724.0  0.524194   0.0  -0.0   0.0  0.137691 -1.235490 -0.322039  27.694972  \n",
      "177725.0  0.724224  -0.0   0.0   0.0  0.671764  0.347997 -1.747540  52.121633  \n",
      "177727.0  0.216494   0.0  -0.0   0.0 -1.173510  1.564810  0.995315  44.816572  \n",
      "177729.0  0.780454   0.0   0.0  -0.0 -2.450660  0.359488  0.465697  44.493523  \n",
      "177730.0  0.411771   0.0  -0.0   0.0 -1.436610 -0.422667 -0.882248  24.630694  \n",
      "\n",
      "[153287 rows x 66 columns]\n"
     ]
    }
   ],
   "source": [
    "#Merge training data sets\n",
    "train_merged= Xtrain_clean.merge(Ytrain_filled, how='left', on='Id')\n",
    "print(train_merged)"
   ]
  },
  {
   "cell_type": "code",
   "execution_count": 32,
   "id": "6d0e513f",
   "metadata": {},
   "outputs": [],
   "source": [
    "#Remove the Id column and reset the index\n",
    "\n",
    "train_merged_resetindex = train_merged.reset_index()\n"
   ]
  },
  {
   "cell_type": "code",
   "execution_count": 33,
   "id": "ae56dba0",
   "metadata": {},
   "outputs": [],
   "source": [
    "train_merged_noindex = train_merged_resetindex.drop(['Id'], axis=1)\n",
    "\n",
    "#print(train_merged_noindex)"
   ]
  },
  {
   "cell_type": "code",
   "execution_count": 34,
   "id": "694b5cf3",
   "metadata": {},
   "outputs": [],
   "source": [
    "#Modeling [some code reused from project 2]\n",
    "from sklearn.linear_model import LinearRegression, SGDRegressor\n",
    "from sklearn.model_selection import train_test_split, cross_val_score, GridSearchCV\n",
    "from sklearn.metrics import mean_squared_error"
   ]
  },
  {
   "cell_type": "code",
   "execution_count": 35,
   "id": "c0ed8e19",
   "metadata": {},
   "outputs": [],
   "source": [
    "#Split the training sets\n",
    "\n",
    "y = train_merged['Value'].copy()\n",
    "X = train_merged.drop(['Value'], axis=1).copy()"
   ]
  },
  {
   "cell_type": "code",
   "execution_count": 36,
   "id": "e93f0378",
   "metadata": {},
   "outputs": [],
   "source": [
    "x_train, x_test, y_train, y_test = train_test_split(X, y, train_size=0.75, test_size=0.25, random_state=32)"
   ]
  },
  {
   "cell_type": "code",
   "execution_count": 37,
   "id": "bf403fab",
   "metadata": {},
   "outputs": [
    {
     "data": {
      "text/plain": [
       "9.641221097353835"
      ]
     },
     "execution_count": 37,
     "metadata": {},
     "output_type": "execute_result"
    }
   ],
   "source": [
    "# Linear Regression: Fit the model to the training set and get hte RMSE of the predictions \n",
    "\n",
    "LinModel = LinearRegression().fit(x_train, y_train)\n",
    "Lin_predictions = LinModel.predict(x_test)\n",
    "mean_squared_error(y_test, Lin_predictions, squared=False)"
   ]
  },
  {
   "cell_type": "code",
   "execution_count": 38,
   "id": "a804c5c7",
   "metadata": {},
   "outputs": [],
   "source": [
    "#Generate predictions on the test set\n",
    "\n",
    "Xtest_Lin_predictions = LinModel.predict(Xtest_clean)\n"
   ]
  },
  {
   "cell_type": "code",
   "execution_count": 39,
   "id": "cccf75db",
   "metadata": {},
   "outputs": [],
   "source": [
    "#Load the sample predictions\n",
    "pred = pd.read_csv('pred.txt', sep =\",\", index_col=0, dtype= {'Value': np.float64})        "
   ]
  },
  {
   "cell_type": "code",
   "execution_count": 40,
   "id": "236c4e1e",
   "metadata": {},
   "outputs": [],
   "source": [
    "sassa_pred_1 = pred.copy()\n",
    "sassa_pred_1['prediction'] = Xtest_Lin_predictions"
   ]
  },
  {
   "cell_type": "code",
   "execution_count": 41,
   "id": "d7371dfc",
   "metadata": {},
   "outputs": [],
   "source": [
    "sassa_pred_1.to_csv('/Users/Jamie/sassa_pred_1.csv', index = True)"
   ]
  }
 ],
 "metadata": {
  "kernelspec": {
   "display_name": "Python 3 (ipykernel)",
   "language": "python",
   "name": "python3"
  },
  "language_info": {
   "codemirror_mode": {
    "name": "ipython",
    "version": 3
   },
   "file_extension": ".py",
   "mimetype": "text/x-python",
   "name": "python",
   "nbconvert_exporter": "python",
   "pygments_lexer": "ipython3",
   "version": "3.9.7"
  }
 },
 "nbformat": 4,
 "nbformat_minor": 5
}
