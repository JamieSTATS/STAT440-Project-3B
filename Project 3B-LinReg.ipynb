{
 "cells": [
  {
   "cell_type": "code",
   "execution_count": 2,
   "id": "99ee9434",
   "metadata": {},
   "outputs": [],
   "source": [
    "import pandas as pd\n",
    "import numpy as np\n",
    "import matplotlib.pyplot as plt\n",
    "%matplotlib inline\n",
    "from sklearn.preprocessing import StandardScaler\n",
    "import seaborn as sns\n",
    "from scipy import stats"
   ]
  },
  {
   "cell_type": "code",
   "execution_count": 3,
   "id": "e4b59618",
   "metadata": {},
   "outputs": [],
   "source": [
    "# https://stackoverflow.com/questions/21546739/load-data-from-txt-with-pandas\n",
    "#https://stackoverflow.com/questions/40011531/in-pandas-when-using-read-csv-how-to-assign-a-nan-to-a-value-thats-not-the\n",
    "\n",
    "\n",
    "\n",
    "# Read data, change missing values to 'NaN'\n",
    "\n",
    "Xtrain_raw = pd.read_csv('Xtrain.txt', sep =\" \", index_col=0, dtype='float64',\n",
    "                    na_values=['?','NaN'])\n",
    "Xtest_raw = pd.read_csv('Xtest.txt', sep =\" \", index_col=0, dtype='float64',\n",
    "                    na_values=['?','NaN'])\n",
    "\n",
    "Ytrain_raw = pd.read_csv('Ytrain.txt', sep =\",\", index_col=0, dtype='float64',\n",
    "                    na_values=['?','NaN'])"
   ]
  },
  {
   "cell_type": "code",
   "execution_count": 4,
   "id": "c5bbc8aa",
   "metadata": {},
   "outputs": [
    {
     "data": {
      "text/plain": [
       "(153287, 1)"
      ]
     },
     "execution_count": 4,
     "metadata": {},
     "output_type": "execute_result"
    }
   ],
   "source": [
    "Ytrain_raw.shape"
   ]
  },
  {
   "cell_type": "code",
   "execution_count": 5,
   "id": "d4847028",
   "metadata": {},
   "outputs": [
    {
     "data": {
      "text/plain": [
       "(153287, 75)"
      ]
     },
     "execution_count": 5,
     "metadata": {},
     "output_type": "execute_result"
    }
   ],
   "source": [
    "Xtrain_raw.shape"
   ]
  },
  {
   "cell_type": "code",
   "execution_count": 6,
   "id": "2dd0c4f9",
   "metadata": {},
   "outputs": [
    {
     "data": {
      "text/plain": [
       "(50000, 75)"
      ]
     },
     "execution_count": 6,
     "metadata": {},
     "output_type": "execute_result"
    }
   ],
   "source": [
    "Xtest_raw.shape\n"
   ]
  },
  {
   "cell_type": "code",
   "execution_count": 7,
   "id": "efdffb4f",
   "metadata": {},
   "outputs": [],
   "source": [
    "#https://stackoverflow.com/questions/51207491/function-to-replace-nan-values-in-a-dataframe-with-mean-of-the-related-column\n",
    "#Replace NaN with column means in Xtrain\n",
    "Xtrain_filled = Xtrain_raw.apply(lambda x: x.fillna(x.mean())) \n",
    "#print(Xtrain_filled.info())"
   ]
  },
  {
   "cell_type": "code",
   "execution_count": 8,
   "id": "9f62b7d6",
   "metadata": {},
   "outputs": [],
   "source": [
    "#Do the same for other data-sets\n",
    "\n",
    "Ytrain_filled = Ytrain_raw.apply(lambda x: x.fillna(x.mean())) \n",
    "Xtest_filled = Xtest_raw.apply(lambda x: x.fillna(x.mean())) "
   ]
  },
  {
   "cell_type": "code",
   "execution_count": 9,
   "id": "e810325b",
   "metadata": {},
   "outputs": [
    {
     "data": {
      "text/plain": [
       "<bound method NDFrame.head of Id\n",
       "1.0        -9.0\n",
       "6.0        -9.0\n",
       "9.0        -9.0\n",
       "12.0       -9.0\n",
       "13.0       -9.0\n",
       "           ... \n",
       "177717.0   -9.0\n",
       "177718.0   -9.0\n",
       "177726.0   -9.0\n",
       "177728.0   -9.0\n",
       "177731.0   -9.0\n",
       "Name: #H04, Length: 50000, dtype: float64>"
      ]
     },
     "execution_count": 9,
     "metadata": {},
     "output_type": "execute_result"
    }
   ],
   "source": [
    "Xtest_filled['#H04'].head"
   ]
  },
  {
   "cell_type": "code",
   "execution_count": 10,
   "id": "2bbea8c0",
   "metadata": {},
   "outputs": [],
   "source": [
    "Xtest_clean=Xtest_filled.drop(labels=[ '#H04', '#H05', '#H06', '#H07', '#H08', '#H09','#I01', '#I02', '#I03','#I04'], axis=1)\n",
    "Xtrain_clean=Xtrain_filled.drop(labels=[ '#H04', '#H05', '#H06', '#H07', '#H08', '#H09','#I01', '#I02', '#I03','#I04'], axis=1)"
   ]
  },
  {
   "cell_type": "code",
   "execution_count": null,
   "id": "9740d11a",
   "metadata": {},
   "outputs": [],
   "source": [
    "\n"
   ]
  },
  {
   "cell_type": "code",
   "execution_count": 11,
   "id": "7b628bbb",
   "metadata": {},
   "outputs": [
    {
     "name": "stdout",
     "output_type": "stream",
     "text": [
      "X_filled shape:  (50000, 75)\n"
     ]
    },
    {
     "data": {
      "text/plain": [
       "<bound method NDFrame.head of               #A01      #A02      #B01      #B02      #B03      #B04  \\\n",
       "Id                                                                     \n",
       "2.0      -0.067006  2.000400 -0.181087 -0.288238 -0.026722 -1.332320   \n",
       "3.0      -0.238565 -1.755040 -0.562340 -1.943580  0.135810 -0.027425   \n",
       "4.0      -0.900302  0.760359 -0.566809  0.843982  0.902949 -0.298859   \n",
       "5.0       0.448940 -0.530155 -0.723218  0.014280  0.175458  0.932137   \n",
       "7.0      -0.096147  0.123017 -0.269223  0.229115 -0.041637 -0.070465   \n",
       "...            ...       ...       ...       ...       ...       ...   \n",
       "177717.0  2.202510  2.295670 -0.813234 -0.571600  1.107120 -0.744815   \n",
       "177718.0  0.486308  0.846261 -1.108650  1.051280 -0.037331  0.511571   \n",
       "177726.0 -0.184787  0.372172  2.014950 -0.135052 -0.037331 -0.022866   \n",
       "177728.0 -0.353409 -0.674765  0.227447 -1.229060 -0.037331  0.403753   \n",
       "177731.0  0.469434  0.458546  0.324099 -0.351323  0.888350 -1.201130   \n",
       "\n",
       "              #B05      #B06      #B07      #B08  ...      #F09      #F10  \\\n",
       "Id                                                ...                       \n",
       "2.0      -0.478257  1.672440 -2.526620 -9.000000  ...  0.974599  0.178045   \n",
       "3.0      -0.952346 -0.030758 -0.745675 -1.729910  ...  0.957243  0.568945   \n",
       "4.0      -0.032618 -2.648990  1.090920 -1.496180  ...  0.843769  0.773529   \n",
       "5.0       0.350433 -1.143190 -0.024211  1.157120  ...  0.687068  0.939611   \n",
       "7.0      -0.198871  0.206065 -0.289754  1.130150  ...  0.001787  0.203836   \n",
       "...            ...       ...       ...       ...  ...       ...       ...   \n",
       "177717.0 -1.131610 -1.458800  0.719253 -0.175299  ...  0.007715  0.119904   \n",
       "177718.0 -0.219691  0.110070 -0.228894 -1.068120  ...  0.091087  0.534935   \n",
       "177726.0  0.637608  0.318490 -0.219347  0.772532  ...  0.430731  0.925973   \n",
       "177728.0 -0.631071  0.726170 -0.767358  0.069615  ...  0.461578  0.723257   \n",
       "177731.0 -0.503588 -0.029188  0.771047 -0.028687  ...  0.993958  0.127656   \n",
       "\n",
       "              #F11      #F12  #G01  #G02  #G03      #H01      #H02      #H03  \n",
       "Id                                                                            \n",
       "2.0       0.329594  0.606314   0.0   0.0   0.0 -1.334800  1.371420  0.052319  \n",
       "3.0       0.205302  0.412246  -0.0  -0.0  -0.0  0.588824 -0.815730  0.130094  \n",
       "4.0       0.831165  0.841522   0.0   0.0   0.0 -0.440171 -1.232990  1.458580  \n",
       "5.0       0.823171  0.320116   0.0   0.0  -0.0 -2.101000  1.384520  0.527246  \n",
       "7.0       0.013136  0.825592   0.0   0.0  -0.0 -0.154242  1.074310 -0.959487  \n",
       "...            ...       ...   ...   ...   ...       ...       ...       ...  \n",
       "177717.0  0.254041  0.121196  -0.0   0.0  -0.0 -1.990390  1.426950  0.851668  \n",
       "177718.0  0.245038  0.650371   0.0   0.0   0.0 -0.365453  0.850150  1.106730  \n",
       "177726.0  0.940587  0.303778  -0.0   0.0  -0.0  0.875423  1.233030  0.593078  \n",
       "177728.0  0.623663  0.484066   0.0   0.0   0.0 -1.327010 -0.009243 -0.722444  \n",
       "177731.0  0.645857  0.782673   0.0   0.0  -0.0  0.369243  0.252845 -1.182840  \n",
       "\n",
       "[203287 rows x 65 columns]>"
      ]
     },
     "execution_count": 11,
     "metadata": {},
     "output_type": "execute_result"
    }
   ],
   "source": [
    "#Concatenate the training and test sets and check to make sure that all observations from the dataset are there\n",
    "\n",
    "X_filled = pd.concat([Xtrain_clean, Xtest_clean])\n",
    "print('X_filled shape: ', Xtest_filled.shape)\n",
    "X_filled.head"
   ]
  },
  {
   "cell_type": "code",
   "execution_count": 12,
   "id": "c598b682",
   "metadata": {},
   "outputs": [],
   "source": [
    "X_sorted = X_filled.sort_index(axis=0)\n",
    "#X_sorted.info()"
   ]
  },
  {
   "cell_type": "code",
   "execution_count": 13,
   "id": "1ef2a52c",
   "metadata": {},
   "outputs": [
    {
     "name": "stdout",
     "output_type": "stream",
     "text": [
      "              #A01      #A02      #B01      #B02      #B03      #B04  \\\n",
      "Id                                                                     \n",
      "2.0      -0.067006  2.000400 -0.181087 -0.288238 -0.026722 -1.332320   \n",
      "3.0      -0.238565 -1.755040 -0.562340 -1.943580  0.135810 -0.027425   \n",
      "4.0      -0.900302  0.760359 -0.566809  0.843982  0.902949 -0.298859   \n",
      "5.0       0.448940 -0.530155 -0.723218  0.014280  0.175458  0.932137   \n",
      "7.0      -0.096147  0.123017 -0.269223  0.229115 -0.041637 -0.070465   \n",
      "...            ...       ...       ...       ...       ...       ...   \n",
      "177724.0 -0.341901 -0.307778  0.599235  0.580111 -0.033728 -0.038976   \n",
      "177725.0  1.284220  0.592979 -0.621695 -0.009792 -0.382274 -0.664959   \n",
      "177727.0  0.454239  1.059110 -0.034778 -0.297135  0.171074 -0.324943   \n",
      "177729.0 -0.336121  0.218963  0.985771 -0.834321 -1.452110 -0.290119   \n",
      "177730.0 -0.202946  0.004449 -0.403091  0.019818  1.420010 -1.087600   \n",
      "\n",
      "              #B05      #B06      #B07      #B08  ...      #F10      #F11  \\\n",
      "Id                                                ...                       \n",
      "2.0      -0.478257  1.672440 -2.526620 -9.000000  ...  0.178045  0.329594   \n",
      "3.0      -0.952346 -0.030758 -0.745675 -1.729910  ...  0.568945  0.205302   \n",
      "4.0      -0.032618 -2.648990  1.090920 -1.496180  ...  0.773529  0.831165   \n",
      "5.0       0.350433 -1.143190 -0.024211  1.157120  ...  0.939611  0.823171   \n",
      "7.0      -0.198871  0.206065 -0.289754  1.130150  ...  0.203836  0.013136   \n",
      "...            ...       ...       ...       ...  ...       ...       ...   \n",
      "177724.0 -0.274740 -0.276337  2.676090 -0.032354  ...  0.389514  0.535839   \n",
      "177725.0  0.836545 -0.166343 -0.713656 -0.458630  ...  0.529564  0.345909   \n",
      "177727.0 -0.719373 -0.747009 -0.886229 -0.032354  ...  0.414126  0.087791   \n",
      "177729.0  0.341428  0.215726 -0.041701 -0.881958  ...  0.009942  0.013119   \n",
      "177730.0  0.493069  0.057705 -1.279380  0.715570  ...  0.163284  0.470609   \n",
      "\n",
      "              #F12  #G01  #G02  #G03      #H01      #H02      #H03      Value  \n",
      "Id                                                                             \n",
      "2.0       0.606314   0.0   0.0   0.0 -1.334800  1.371420  0.052319  54.487331  \n",
      "3.0       0.412246  -0.0  -0.0  -0.0  0.588824 -0.815730  0.130094  63.351648  \n",
      "4.0       0.841522   0.0   0.0   0.0 -0.440171 -1.232990  1.458580  27.984377  \n",
      "5.0       0.320116   0.0   0.0  -0.0 -2.101000  1.384520  0.527246  31.723970  \n",
      "7.0       0.825592   0.0   0.0  -0.0 -0.154242  1.074310 -0.959487  20.746050  \n",
      "...            ...   ...   ...   ...       ...       ...       ...        ...  \n",
      "177724.0  0.524194   0.0  -0.0   0.0  0.137691 -1.235490 -0.322039  27.694972  \n",
      "177725.0  0.724224  -0.0   0.0   0.0  0.671764  0.347997 -1.747540  52.121633  \n",
      "177727.0  0.216494   0.0  -0.0   0.0 -1.173510  1.564810  0.995315  44.816572  \n",
      "177729.0  0.780454   0.0   0.0  -0.0 -2.450660  0.359488  0.465697  44.493523  \n",
      "177730.0  0.411771   0.0  -0.0   0.0 -1.436610 -0.422667 -0.882248  24.630694  \n",
      "\n",
      "[153287 rows x 66 columns]\n"
     ]
    }
   ],
   "source": [
    "#Merge training data sets\n",
    "train_merged= Xtrain_clean.merge(Ytrain_filled, how='left', on='Id')\n",
    "print(train_merged)"
   ]
  },
  {
   "cell_type": "code",
   "execution_count": 14,
   "id": "6d0e513f",
   "metadata": {},
   "outputs": [],
   "source": [
    "#Remove the Id column and reset the index\n",
    "\n",
    "train_merged_resetindex = train_merged.reset_index()\n"
   ]
  },
  {
   "cell_type": "code",
   "execution_count": 15,
   "id": "ae56dba0",
   "metadata": {},
   "outputs": [],
   "source": [
    "train_merged_noindex = train_merged_resetindex.drop(['Id'], axis=1)\n",
    "#print(train_merged_noindex)"
   ]
  },
  {
   "cell_type": "code",
   "execution_count": 16,
   "id": "694b5cf3",
   "metadata": {},
   "outputs": [],
   "source": [
    "#Modeling [some code reused from project 2]\n",
    "from sklearn.linear_model import LinearRegression, SGDRegressor\n",
    "from sklearn.model_selection import train_test_split, cross_val_score, GridSearchCV\n",
    "from sklearn.metrics import mean_squared_error"
   ]
  },
  {
   "cell_type": "code",
   "execution_count": 17,
   "id": "c0ed8e19",
   "metadata": {},
   "outputs": [],
   "source": [
    "y = train_merged['Value'].copy()\n",
    "X = train_merged.drop(['Value'], axis=1).copy()"
   ]
  },
  {
   "cell_type": "code",
   "execution_count": 18,
   "id": "e93f0378",
   "metadata": {},
   "outputs": [],
   "source": [
    "x_train, x_test, y_train, y_test = train_test_split(X, y, train_size=0.75, test_size=0.25, random_state=32)"
   ]
  },
  {
   "cell_type": "code",
   "execution_count": 19,
   "id": "bf403fab",
   "metadata": {},
   "outputs": [
    {
     "data": {
      "text/plain": [
       "9.641221097353835"
      ]
     },
     "execution_count": 19,
     "metadata": {},
     "output_type": "execute_result"
    }
   ],
   "source": [
    "# Linear Regression \n",
    "\n",
    "LinModel = LinearRegression().fit(x_train, y_train)\n",
    "Lin_predictions = LinModel.predict(x_test)\n",
    "mean_squared_error(y_test, Lin_predictions, squared=False)"
   ]
  },
  {
   "cell_type": "code",
   "execution_count": 65,
   "id": "3cfcedd7",
   "metadata": {},
   "outputs": [],
   "source": [
    "#Lin_predictions = LinModel.predict(x_test)\n"
   ]
  },
  {
   "cell_type": "code",
   "execution_count": 66,
   "id": "649bb578",
   "metadata": {},
   "outputs": [
    {
     "data": {
      "text/plain": [
       "9.641221097353835"
      ]
     },
     "execution_count": 66,
     "metadata": {},
     "output_type": "execute_result"
    }
   ],
   "source": [
    "#mean_squared_error(y_test, Lin_predictions, squared=False)"
   ]
  },
  {
   "cell_type": "code",
   "execution_count": 68,
   "id": "a804c5c7",
   "metadata": {},
   "outputs": [],
   "source": [
    "Xtest_Lin_predictions = LinModel.predict(Xtest_clean)\n"
   ]
  },
  {
   "cell_type": "code",
   "execution_count": 69,
   "id": "cccf75db",
   "metadata": {},
   "outputs": [],
   "source": [
    "#Load the sample predictions\n",
    "pred = pd.read_csv('pred.txt', sep =\",\", index_col=0, dtype= {'Value': np.float64})        "
   ]
  },
  {
   "cell_type": "code",
   "execution_count": 70,
   "id": "8da89257",
   "metadata": {},
   "outputs": [
    {
     "name": "stdout",
     "output_type": "stream",
     "text": [
      "        prediction\n",
      "Id                \n",
      "1             10.0\n",
      "6             10.0\n",
      "9             10.0\n",
      "12            10.0\n",
      "13            10.0\n",
      "...            ...\n",
      "177717        10.0\n",
      "177718        10.0\n",
      "177726        10.0\n",
      "177728        10.0\n",
      "177731        10.0\n",
      "\n",
      "[50000 rows x 1 columns]\n"
     ]
    }
   ],
   "source": [
    "print(pred)"
   ]
  },
  {
   "cell_type": "code",
   "execution_count": null,
   "id": "81f8847a",
   "metadata": {},
   "outputs": [],
   "source": []
  },
  {
   "cell_type": "code",
   "execution_count": 71,
   "id": "236c4e1e",
   "metadata": {},
   "outputs": [],
   "source": [
    "sassa_pred_1 = pred.copy()\n",
    "sassa_pred_1['prediction'] = Xtest_Lin_predictions"
   ]
  },
  {
   "cell_type": "code",
   "execution_count": 72,
   "id": "d7371dfc",
   "metadata": {},
   "outputs": [],
   "source": [
    "sassa_pred_1.to_csv('/Users/Jamie/sassa_pred_1.csv', index = True)"
   ]
  },
  {
   "cell_type": "code",
   "execution_count": null,
   "id": "0a4f037e",
   "metadata": {},
   "outputs": [],
   "source": [
    "#Xtrain_raw.sample\n",
    "sns.pairplot(Xtrain_raw.sample(n = 2, random_state=1), height = 2)"
   ]
  },
  {
   "cell_type": "code",
   "execution_count": 4,
   "id": "e23c0554",
   "metadata": {},
   "outputs": [
    {
     "data": {
      "text/plain": [
       "Value    10.656328\n",
       "dtype: float64"
      ]
     },
     "execution_count": 4,
     "metadata": {},
     "output_type": "execute_result"
    }
   ],
   "source": [
    "mu = Ytrain_raw.mean(axis=0)\n",
    "std = Ytrain_raw.std(axis=0)\n",
    "#mu\n",
    "std"
   ]
  },
  {
   "cell_type": "code",
   "execution_count": null,
   "id": "089a9c2e",
   "metadata": {},
   "outputs": [],
   "source": [
    "#Xtrain_raw_copy= Xtrain_raw.copy()\n",
    "#Xtrain_droppedNA = Xtrain_raw_copy.dropna()\n",
    "Xtrain_droppedNA = Xtrain_raw.dropna()\n"
   ]
  },
  {
   "cell_type": "code",
   "execution_count": null,
   "id": "bbe37c12",
   "metadata": {},
   "outputs": [],
   "source": [
    "hasattr(Xtrain_droppedNA, 'sample')"
   ]
  },
  {
   "cell_type": "code",
   "execution_count": null,
   "id": "c49366b8",
   "metadata": {},
   "outputs": [],
   "source": [
    "#scaler = StandardScaler()\n",
    "Xtrain_droppedNA = scaler.fit_transform(Xtrain_droppedNA)\n",
    "#df_numeric[df_numeric.columns] = scaler.fit_transform(df_numeric[df_numeric.columns])\n",
    "#print(Xtrain_droppedNA['#A01'].mean())\n",
    "#print(Xtrain_droppedNA['total'].std())\n",
    "\n",
    "plt.figure(figsize=(50,40))\n",
    "#cor = Xtrain_droppedNA.corr(method = 'pearson')\n",
    "#sns.heatmap(cor, annot=True, cmap=plt.cm.Reds)\n",
    "plt.show()\n",
    "\n",
    "sns.pairplot(Xtrain_droppedNA.sample(n = 110, random_state=1), height = 2)"
   ]
  }
 ],
 "metadata": {
  "kernelspec": {
   "display_name": "Python 3 (ipykernel)",
   "language": "python",
   "name": "python3"
  },
  "language_info": {
   "codemirror_mode": {
    "name": "ipython",
    "version": 3
   },
   "file_extension": ".py",
   "mimetype": "text/x-python",
   "name": "python",
   "nbconvert_exporter": "python",
   "pygments_lexer": "ipython3",
   "version": "3.9.7"
  }
 },
 "nbformat": 4,
 "nbformat_minor": 5
}
