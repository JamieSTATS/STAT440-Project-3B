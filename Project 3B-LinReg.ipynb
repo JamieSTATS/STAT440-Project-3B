{
 "cells": [
  {
   "cell_type": "code",
   "execution_count": 71,
   "id": "99ee9434",
   "metadata": {},
   "outputs": [],
   "source": [
    "import pandas as pd\n",
    "import numpy as np\n",
    "import matplotlib.pyplot as plt\n",
    "%matplotlib inline\n",
    "from sklearn.preprocessing import StandardScaler\n",
    "import seaborn as sns\n",
    "from scipy import stats"
   ]
  },
  {
   "cell_type": "code",
   "execution_count": 72,
   "id": "e4b59618",
   "metadata": {},
   "outputs": [],
   "source": [
    "# https://stackoverflow.com/questions/21546739/load-data-from-txt-with-pandas\n",
    "#https://stackoverflow.com/questions/40011531/in-pandas-when-using-read-csv-how-to-assign-a-nan-to-a-value-thats-not-the\n",
    "\n",
    "\n",
    "\n",
    "# Read data, change missing values to 'NaN'\n",
    "\n",
    "Xtrain_raw = pd.read_csv('Xtrain.txt', sep =\" \", index_col=0, dtype='float64',\n",
    "                    na_values=['?','NaN'])\n",
    "Xtest_raw = pd.read_csv('Xtest.txt', sep =\" \", index_col=0, dtype='float64',\n",
    "                    na_values=['?','NaN'])\n",
    "\n",
    "Ytrain_raw = pd.read_csv('Ytrain.txt', sep =\",\", index_col=0, dtype='float64',\n",
    "                    na_values=['?','NaN'])"
   ]
  },
  {
   "cell_type": "code",
   "execution_count": 73,
   "id": "c5bbc8aa",
   "metadata": {},
   "outputs": [
    {
     "data": {
      "text/plain": [
       "(153287, 1)"
      ]
     },
     "execution_count": 73,
     "metadata": {},
     "output_type": "execute_result"
    }
   ],
   "source": [
    "Ytrain_raw.shape"
   ]
  },
  {
   "cell_type": "code",
   "execution_count": 74,
   "id": "d4847028",
   "metadata": {},
   "outputs": [
    {
     "data": {
      "text/plain": [
       "(153287, 75)"
      ]
     },
     "execution_count": 74,
     "metadata": {},
     "output_type": "execute_result"
    }
   ],
   "source": [
    "Xtrain_raw.shape"
   ]
  },
  {
   "cell_type": "code",
   "execution_count": 76,
   "id": "2dd0c4f9",
   "metadata": {},
   "outputs": [
    {
     "data": {
      "text/plain": [
       "<bound method NDFrame.head of               #A01      #A02      #B01      #B02      #B03      #B04  \\\n",
       "Id                                                                     \n",
       "1.0       1.727140  1.654740 -1.097710 -0.385983 -1.244110  0.419808   \n",
       "6.0       1.205050  0.296842 -1.265870  1.001000 -0.285456  1.296480   \n",
       "9.0      -1.132310  0.307465 -0.048653 -0.210259       NaN  0.314849   \n",
       "12.0     -0.954363 -0.720769 -0.987462  0.543249       NaN -0.387820   \n",
       "13.0     -0.535508 -0.529080 -0.681735  0.407560 -0.023905  1.623960   \n",
       "...            ...       ...       ...       ...       ...       ...   \n",
       "177717.0  2.202510  2.295670 -0.813234 -0.571600  1.107120 -0.744815   \n",
       "177718.0  0.486308  0.846261 -1.108650  1.051280       NaN  0.511571   \n",
       "177726.0 -0.184787  0.372172  2.014950 -0.135052       NaN       NaN   \n",
       "177728.0 -0.353409 -0.674765  0.227447 -1.229060       NaN  0.403753   \n",
       "177731.0  0.469434  0.458546  0.324099 -0.351323  0.888350 -1.201130   \n",
       "\n",
       "              #B05      #B06      #B07      #B08  ...  #H04  #H05  #H06  #H07  \\\n",
       "Id                                                ...                           \n",
       "1.0      -1.435640 -0.376851  0.574999  0.730206  ...  -9.0  -9.0  -9.0  -9.0   \n",
       "6.0      -0.150170       NaN  1.084120 -1.039780  ...  -9.0  -9.0  -9.0  -9.0   \n",
       "9.0       0.801982  0.038014  0.515885 -0.418177  ...  -9.0  -9.0  -9.0  -9.0   \n",
       "12.0     -0.199311  0.773217  0.440916  0.943336  ...  -9.0  -9.0  -9.0  -9.0   \n",
       "13.0      0.152597       NaN  0.261951 -0.277629  ...  -9.0  -9.0  -9.0  -9.0   \n",
       "...            ...       ...       ...       ...  ...   ...   ...   ...   ...   \n",
       "177717.0 -1.131610 -1.458800  0.719253 -0.175299  ...  -9.0  -9.0  -9.0  -9.0   \n",
       "177718.0 -0.219691  0.110070 -0.228894 -1.068120  ...  -9.0  -9.0  -9.0  -9.0   \n",
       "177726.0  0.637608  0.318490 -0.219347  0.772532  ...  -9.0  -9.0  -9.0  -9.0   \n",
       "177728.0 -0.631071  0.726170 -0.767358  0.069615  ...  -9.0  -9.0  -9.0  -9.0   \n",
       "177731.0 -0.503588       NaN  0.771047       NaN  ...  -9.0  -9.0  -9.0  -9.0   \n",
       "\n",
       "          #H08  #H09  #I01  #I02  #I03  #I04  \n",
       "Id                                            \n",
       "1.0       -9.0  -9.0  -9.0  -9.0  -9.0  -9.0  \n",
       "6.0       -9.0  -9.0  -9.0  -9.0  -9.0  -9.0  \n",
       "9.0       -9.0  -9.0  -9.0  -9.0  -9.0  -9.0  \n",
       "12.0      -9.0  -9.0  -9.0  -9.0  -9.0  -9.0  \n",
       "13.0      -9.0  -9.0  -9.0  -9.0  -9.0  -9.0  \n",
       "...        ...   ...   ...   ...   ...   ...  \n",
       "177717.0  -9.0  -9.0  -9.0  -9.0  -9.0  -9.0  \n",
       "177718.0  -9.0  -9.0  -9.0  -9.0  -9.0  -9.0  \n",
       "177726.0  -9.0  -9.0  -9.0  -9.0  -9.0  -9.0  \n",
       "177728.0  -9.0  -9.0  -9.0  -9.0  -9.0  -9.0  \n",
       "177731.0  -9.0  -9.0  -9.0  -9.0  -9.0  -9.0  \n",
       "\n",
       "[50000 rows x 75 columns]>"
      ]
     },
     "execution_count": 76,
     "metadata": {},
     "output_type": "execute_result"
    }
   ],
   "source": [
    "Xtest_raw.shape\n",
    "Xtest_raw.head"
   ]
  },
  {
   "cell_type": "code",
   "execution_count": 49,
   "id": "efdffb4f",
   "metadata": {},
   "outputs": [
    {
     "name": "stdout",
     "output_type": "stream",
     "text": [
      "<class 'pandas.core.frame.DataFrame'>\n",
      "Float64Index: 153287 entries, 2.0 to 177730.0\n",
      "Data columns (total 75 columns):\n",
      " #   Column  Non-Null Count   Dtype  \n",
      "---  ------  --------------   -----  \n",
      " 0   #A01    153287 non-null  float64\n",
      " 1   #A02    153287 non-null  float64\n",
      " 2   #B01    153287 non-null  float64\n",
      " 3   #B02    153287 non-null  float64\n",
      " 4   #B03    153287 non-null  float64\n",
      " 5   #B04    153287 non-null  float64\n",
      " 6   #B05    153287 non-null  float64\n",
      " 7   #B06    153287 non-null  float64\n",
      " 8   #B07    153287 non-null  float64\n",
      " 9   #B08    153287 non-null  float64\n",
      " 10  #B09    153287 non-null  float64\n",
      " 11  #B10    153287 non-null  float64\n",
      " 12  #B11    153287 non-null  float64\n",
      " 13  #B12    153287 non-null  float64\n",
      " 14  #B13    153287 non-null  float64\n",
      " 15  #B14    153287 non-null  float64\n",
      " 16  #B15    153287 non-null  float64\n",
      " 17  #B16    153287 non-null  float64\n",
      " 18  #B17    153287 non-null  float64\n",
      " 19  #B18    153287 non-null  float64\n",
      " 20  #B19    153287 non-null  float64\n",
      " 21  #B20    153287 non-null  float64\n",
      " 22  #B21    153287 non-null  float64\n",
      " 23  #B22    153287 non-null  float64\n",
      " 24  #B23    153287 non-null  float64\n",
      " 25  #B24    153287 non-null  float64\n",
      " 26  #C01    153287 non-null  float64\n",
      " 27  #C02    153287 non-null  float64\n",
      " 28  #C03    153287 non-null  float64\n",
      " 29  #D01    153287 non-null  float64\n",
      " 30  #D02    153287 non-null  float64\n",
      " 31  #D03    153287 non-null  float64\n",
      " 32  #D04    153287 non-null  float64\n",
      " 33  #D05    153287 non-null  float64\n",
      " 34  #D06    153287 non-null  float64\n",
      " 35  #D07    153287 non-null  float64\n",
      " 36  #D08    153287 non-null  float64\n",
      " 37  #D09    153287 non-null  float64\n",
      " 38  #D10    153287 non-null  float64\n",
      " 39  #D11    153287 non-null  float64\n",
      " 40  #D12    153287 non-null  float64\n",
      " 41  #D13    153287 non-null  float64\n",
      " 42  #D14    153287 non-null  float64\n",
      " 43  #D15    153287 non-null  float64\n",
      " 44  #D16    153287 non-null  float64\n",
      " 45  #D17    153287 non-null  float64\n",
      " 46  #E01    153287 non-null  float64\n",
      " 47  #F01    153287 non-null  float64\n",
      " 48  #F02    153287 non-null  float64\n",
      " 49  #F03    153287 non-null  float64\n",
      " 50  #F04    153287 non-null  float64\n",
      " 51  #F05    153287 non-null  float64\n",
      " 52  #F06    153287 non-null  float64\n",
      " 53  #F07    153287 non-null  float64\n",
      " 54  #F08    153287 non-null  float64\n",
      " 55  #F09    153287 non-null  float64\n",
      " 56  #F10    153287 non-null  float64\n",
      " 57  #F11    153287 non-null  float64\n",
      " 58  #F12    153287 non-null  float64\n",
      " 59  #G01    153287 non-null  float64\n",
      " 60  #G02    153287 non-null  float64\n",
      " 61  #G03    153287 non-null  float64\n",
      " 62  #H01    153287 non-null  float64\n",
      " 63  #H02    153287 non-null  float64\n",
      " 64  #H03    153287 non-null  float64\n",
      " 65  #H04    153287 non-null  float64\n",
      " 66  #H05    153287 non-null  float64\n",
      " 67  #H06    153287 non-null  float64\n",
      " 68  #H07    153287 non-null  float64\n",
      " 69  #H08    153287 non-null  float64\n",
      " 70  #H09    153287 non-null  float64\n",
      " 71  #I01    153287 non-null  float64\n",
      " 72  #I02    153287 non-null  float64\n",
      " 73  #I03    153287 non-null  float64\n",
      " 74  #I04    153287 non-null  float64\n",
      "dtypes: float64(75)\n",
      "memory usage: 88.9 MB\n",
      "None\n"
     ]
    }
   ],
   "source": [
    "#https://stackoverflow.com/questions/51207491/function-to-replace-nan-values-in-a-dataframe-with-mean-of-the-related-column\n",
    "#Replace NaN with column means in Xtrain\n",
    "Xtrain_filled = Xtrain_raw.apply(lambda x: x.fillna(x.mean())) \n",
    "print(Xtrain_filled.info())"
   ]
  },
  {
   "cell_type": "code",
   "execution_count": 50,
   "id": "9f62b7d6",
   "metadata": {},
   "outputs": [],
   "source": [
    "#Do the same for other data-sets\n",
    "\n",
    "Ytrain_filled = Ytrain_raw.apply(lambda x: x.fillna(x.mean())) \n",
    "Xtest_filled = Xtest_raw.apply(lambda x: x.fillna(x.mean())) "
   ]
  },
  {
   "cell_type": "code",
   "execution_count": 83,
   "id": "7b628bbb",
   "metadata": {},
   "outputs": [
    {
     "name": "stdout",
     "output_type": "stream",
     "text": [
      "X_filled shape:  (50000, 75)\n",
      "<class 'pandas.core.frame.DataFrame'>\n",
      "Float64Index: 203287 entries, 2.0 to 177731.0\n",
      "Data columns (total 75 columns):\n",
      " #   Column  Non-Null Count   Dtype  \n",
      "---  ------  --------------   -----  \n",
      " 0   #A01    203287 non-null  float64\n",
      " 1   #A02    203287 non-null  float64\n",
      " 2   #B01    203287 non-null  float64\n",
      " 3   #B02    203287 non-null  float64\n",
      " 4   #B03    203287 non-null  float64\n",
      " 5   #B04    203287 non-null  float64\n",
      " 6   #B05    203287 non-null  float64\n",
      " 7   #B06    203287 non-null  float64\n",
      " 8   #B07    203287 non-null  float64\n",
      " 9   #B08    203287 non-null  float64\n",
      " 10  #B09    203287 non-null  float64\n",
      " 11  #B10    203287 non-null  float64\n",
      " 12  #B11    203287 non-null  float64\n",
      " 13  #B12    203287 non-null  float64\n",
      " 14  #B13    203287 non-null  float64\n",
      " 15  #B14    203287 non-null  float64\n",
      " 16  #B15    203287 non-null  float64\n",
      " 17  #B16    203287 non-null  float64\n",
      " 18  #B17    203287 non-null  float64\n",
      " 19  #B18    203287 non-null  float64\n",
      " 20  #B19    203287 non-null  float64\n",
      " 21  #B20    203287 non-null  float64\n",
      " 22  #B21    203287 non-null  float64\n",
      " 23  #B22    203287 non-null  float64\n",
      " 24  #B23    203287 non-null  float64\n",
      " 25  #B24    203287 non-null  float64\n",
      " 26  #C01    203287 non-null  float64\n",
      " 27  #C02    203287 non-null  float64\n",
      " 28  #C03    203287 non-null  float64\n",
      " 29  #D01    203287 non-null  float64\n",
      " 30  #D02    203287 non-null  float64\n",
      " 31  #D03    203287 non-null  float64\n",
      " 32  #D04    203287 non-null  float64\n",
      " 33  #D05    203287 non-null  float64\n",
      " 34  #D06    203287 non-null  float64\n",
      " 35  #D07    203287 non-null  float64\n",
      " 36  #D08    203287 non-null  float64\n",
      " 37  #D09    203287 non-null  float64\n",
      " 38  #D10    203287 non-null  float64\n",
      " 39  #D11    203287 non-null  float64\n",
      " 40  #D12    203287 non-null  float64\n",
      " 41  #D13    203287 non-null  float64\n",
      " 42  #D14    203287 non-null  float64\n",
      " 43  #D15    203287 non-null  float64\n",
      " 44  #D16    203287 non-null  float64\n",
      " 45  #D17    203287 non-null  float64\n",
      " 46  #E01    203287 non-null  float64\n",
      " 47  #F01    203287 non-null  float64\n",
      " 48  #F02    203287 non-null  float64\n",
      " 49  #F03    203287 non-null  float64\n",
      " 50  #F04    203287 non-null  float64\n",
      " 51  #F05    203287 non-null  float64\n",
      " 52  #F06    203287 non-null  float64\n",
      " 53  #F07    203287 non-null  float64\n",
      " 54  #F08    203287 non-null  float64\n",
      " 55  #F09    203287 non-null  float64\n",
      " 56  #F10    203287 non-null  float64\n",
      " 57  #F11    203287 non-null  float64\n",
      " 58  #F12    203287 non-null  float64\n",
      " 59  #G01    203287 non-null  float64\n",
      " 60  #G02    203287 non-null  float64\n",
      " 61  #G03    203287 non-null  float64\n",
      " 62  #H01    203287 non-null  float64\n",
      " 63  #H02    203287 non-null  float64\n",
      " 64  #H03    203287 non-null  float64\n",
      " 65  #H04    203287 non-null  float64\n",
      " 66  #H05    203287 non-null  float64\n",
      " 67  #H06    203287 non-null  float64\n",
      " 68  #H07    203287 non-null  float64\n",
      " 69  #H08    203287 non-null  float64\n",
      " 70  #H09    203287 non-null  float64\n",
      " 71  #I01    203287 non-null  float64\n",
      " 72  #I02    203287 non-null  float64\n",
      " 73  #I03    203287 non-null  float64\n",
      " 74  #I04    203287 non-null  float64\n",
      "dtypes: float64(75)\n",
      "memory usage: 117.9 MB\n"
     ]
    }
   ],
   "source": [
    "#Concatenate the training and test sets and check to make sure that all observations from the dataset are there\n",
    "\n",
    "X_filled = pd.concat([Xtrain_filled, Xtest_filled])\n",
    "print('X_filled shape: ', Xtest_filled.shape)\n",
    "X_filled.info()"
   ]
  },
  {
   "cell_type": "code",
   "execution_count": 84,
   "id": "c598b682",
   "metadata": {},
   "outputs": [
    {
     "name": "stdout",
     "output_type": "stream",
     "text": [
      "<class 'pandas.core.frame.DataFrame'>\n",
      "Float64Index: 203287 entries, 1.0 to 203287.0\n",
      "Data columns (total 75 columns):\n",
      " #   Column  Non-Null Count   Dtype  \n",
      "---  ------  --------------   -----  \n",
      " 0   #A01    203287 non-null  float64\n",
      " 1   #A02    203287 non-null  float64\n",
      " 2   #B01    203287 non-null  float64\n",
      " 3   #B02    203287 non-null  float64\n",
      " 4   #B03    203287 non-null  float64\n",
      " 5   #B04    203287 non-null  float64\n",
      " 6   #B05    203287 non-null  float64\n",
      " 7   #B06    203287 non-null  float64\n",
      " 8   #B07    203287 non-null  float64\n",
      " 9   #B08    203287 non-null  float64\n",
      " 10  #B09    203287 non-null  float64\n",
      " 11  #B10    203287 non-null  float64\n",
      " 12  #B11    203287 non-null  float64\n",
      " 13  #B12    203287 non-null  float64\n",
      " 14  #B13    203287 non-null  float64\n",
      " 15  #B14    203287 non-null  float64\n",
      " 16  #B15    203287 non-null  float64\n",
      " 17  #B16    203287 non-null  float64\n",
      " 18  #B17    203287 non-null  float64\n",
      " 19  #B18    203287 non-null  float64\n",
      " 20  #B19    203287 non-null  float64\n",
      " 21  #B20    203287 non-null  float64\n",
      " 22  #B21    203287 non-null  float64\n",
      " 23  #B22    203287 non-null  float64\n",
      " 24  #B23    203287 non-null  float64\n",
      " 25  #B24    203287 non-null  float64\n",
      " 26  #C01    203287 non-null  float64\n",
      " 27  #C02    203287 non-null  float64\n",
      " 28  #C03    203287 non-null  float64\n",
      " 29  #D01    203287 non-null  float64\n",
      " 30  #D02    203287 non-null  float64\n",
      " 31  #D03    203287 non-null  float64\n",
      " 32  #D04    203287 non-null  float64\n",
      " 33  #D05    203287 non-null  float64\n",
      " 34  #D06    203287 non-null  float64\n",
      " 35  #D07    203287 non-null  float64\n",
      " 36  #D08    203287 non-null  float64\n",
      " 37  #D09    203287 non-null  float64\n",
      " 38  #D10    203287 non-null  float64\n",
      " 39  #D11    203287 non-null  float64\n",
      " 40  #D12    203287 non-null  float64\n",
      " 41  #D13    203287 non-null  float64\n",
      " 42  #D14    203287 non-null  float64\n",
      " 43  #D15    203287 non-null  float64\n",
      " 44  #D16    203287 non-null  float64\n",
      " 45  #D17    203287 non-null  float64\n",
      " 46  #E01    203287 non-null  float64\n",
      " 47  #F01    203287 non-null  float64\n",
      " 48  #F02    203287 non-null  float64\n",
      " 49  #F03    203287 non-null  float64\n",
      " 50  #F04    203287 non-null  float64\n",
      " 51  #F05    203287 non-null  float64\n",
      " 52  #F06    203287 non-null  float64\n",
      " 53  #F07    203287 non-null  float64\n",
      " 54  #F08    203287 non-null  float64\n",
      " 55  #F09    203287 non-null  float64\n",
      " 56  #F10    203287 non-null  float64\n",
      " 57  #F11    203287 non-null  float64\n",
      " 58  #F12    203287 non-null  float64\n",
      " 59  #G01    203287 non-null  float64\n",
      " 60  #G02    203287 non-null  float64\n",
      " 61  #G03    203287 non-null  float64\n",
      " 62  #H01    203287 non-null  float64\n",
      " 63  #H02    203287 non-null  float64\n",
      " 64  #H03    203287 non-null  float64\n",
      " 65  #H04    203287 non-null  float64\n",
      " 66  #H05    203287 non-null  float64\n",
      " 67  #H06    203287 non-null  float64\n",
      " 68  #H07    203287 non-null  float64\n",
      " 69  #H08    203287 non-null  float64\n",
      " 70  #H09    203287 non-null  float64\n",
      " 71  #I01    203287 non-null  float64\n",
      " 72  #I02    203287 non-null  float64\n",
      " 73  #I03    203287 non-null  float64\n",
      " 74  #I04    203287 non-null  float64\n",
      "dtypes: float64(75)\n",
      "memory usage: 117.9 MB\n"
     ]
    }
   ],
   "source": [
    "X_sorted = X_filled.sort_index(axis=0)\n",
    "X_sorted.info()"
   ]
  },
  {
   "cell_type": "code",
   "execution_count": 52,
   "id": "1ef2a52c",
   "metadata": {},
   "outputs": [
    {
     "name": "stdout",
     "output_type": "stream",
     "text": [
      "              #A01      #A02      #B01      #B02      #B03      #B04  \\\n",
      "Id                                                                     \n",
      "2.0      -0.067006  2.000400 -0.181087 -0.288238 -0.026722 -1.332320   \n",
      "3.0      -0.238565 -1.755040 -0.562340 -1.943580  0.135810 -0.027425   \n",
      "4.0      -0.900302  0.760359 -0.566809  0.843982  0.902949 -0.298859   \n",
      "5.0       0.448940 -0.530155 -0.723218  0.014280  0.175458  0.932137   \n",
      "7.0      -0.096147  0.123017 -0.269223  0.229115 -0.041637 -0.070465   \n",
      "...            ...       ...       ...       ...       ...       ...   \n",
      "177724.0 -0.341901 -0.307778  0.599235  0.580111 -0.033728 -0.038976   \n",
      "177725.0  1.284220  0.592979 -0.621695 -0.009792 -0.382274 -0.664959   \n",
      "177727.0  0.454239  1.059110 -0.034778 -0.297135  0.171074 -0.324943   \n",
      "177729.0 -0.336121  0.218963  0.985771 -0.834321 -1.452110 -0.290119   \n",
      "177730.0 -0.202946  0.004449 -0.403091  0.019818  1.420010 -1.087600   \n",
      "\n",
      "              #B05      #B06      #B07      #B08  ...      #H05      #H06  \\\n",
      "Id                                                ...                       \n",
      "2.0      -0.478257  1.672440 -2.526620 -9.000000  ...  0.430223 -0.690854   \n",
      "3.0      -0.952346 -0.030758 -0.745675 -1.729910  ... -0.326454  2.779950   \n",
      "4.0      -0.032618 -2.648990  1.090920 -1.496180  ... -1.373100  0.273351   \n",
      "5.0       0.350433 -1.143190 -0.024211  1.157120  ...  0.800052 -0.332309   \n",
      "7.0      -0.198871  0.206065 -0.289754  1.130150  ...  1.102720 -0.063383   \n",
      "...            ...       ...       ...       ...  ...       ...       ...   \n",
      "177724.0 -0.274740 -0.276337  2.676090 -0.032354  ...  1.855850 -0.015132   \n",
      "177725.0  0.836545 -0.166343 -0.713656 -0.458630  ... -0.359674  2.843780   \n",
      "177727.0 -0.719373 -0.747009 -0.886229 -0.032354  ...  0.776017 -0.714900   \n",
      "177729.0  0.341428  0.215726 -0.041701 -0.881958  ... -0.226681  2.930420   \n",
      "177730.0  0.493069  0.057705 -1.279380  0.715570  ...  1.337170 -1.219220   \n",
      "\n",
      "              #H07      #H08      #H09  #I01  #I02  #I03  #I04      Value  \n",
      "Id                                                                         \n",
      "2.0       0.146688  0.822720  1.539380   1.0   1.0   1.0   0.0  54.487331  \n",
      "3.0      -0.827175 -0.456060  0.445250   0.0   0.0   0.0   1.0  63.351648  \n",
      "4.0      -0.550556  1.146150 -0.177612   1.0   0.0   0.0   1.0  27.984377  \n",
      "5.0      -0.126167 -0.719873 -0.906641   1.0   1.0   1.0   0.0  31.723970  \n",
      "7.0       0.437843 -0.028178 -1.122100   1.0   0.0   1.0   0.0  20.746050  \n",
      "...            ...       ...       ...   ...   ...   ...   ...        ...  \n",
      "177724.0 -0.956053 -0.353328 -0.841031   0.0   1.0   0.0   1.0  27.694972  \n",
      "177725.0  0.804801 -1.319660 -0.828305   1.0   0.0   0.0   0.0  52.121633  \n",
      "177727.0  0.387384  0.088953 -1.415750   0.0   1.0   1.0   1.0  44.816572  \n",
      "177729.0 -1.079880  0.883123  1.495370   1.0   1.0   0.0   1.0  44.493523  \n",
      "177730.0  0.269421  0.402247  0.436917   1.0   0.0   1.0   1.0  24.630694  \n",
      "\n",
      "[153287 rows x 76 columns]\n"
     ]
    }
   ],
   "source": [
    "#Merge training data sets\n",
    "train_merged= Xtrain_filled.merge(Ytrain_filled, how='left', on='Id')\n",
    "print(train_merged)"
   ]
  },
  {
   "cell_type": "code",
   "execution_count": 53,
   "id": "6d0e513f",
   "metadata": {},
   "outputs": [],
   "source": [
    "#Remove the Id column and reset the index\n",
    "\n",
    "train_merged_resetindex = train_merged.reset_index()\n"
   ]
  },
  {
   "cell_type": "code",
   "execution_count": 54,
   "id": "ae56dba0",
   "metadata": {},
   "outputs": [
    {
     "name": "stdout",
     "output_type": "stream",
     "text": [
      "            #A01      #A02      #B01      #B02      #B03      #B04      #B05  \\\n",
      "0      -0.067006  2.000400 -0.181087 -0.288238 -0.026722 -1.332320 -0.478257   \n",
      "1      -0.238565 -1.755040 -0.562340 -1.943580  0.135810 -0.027425 -0.952346   \n",
      "2      -0.900302  0.760359 -0.566809  0.843982  0.902949 -0.298859 -0.032618   \n",
      "3       0.448940 -0.530155 -0.723218  0.014280  0.175458  0.932137  0.350433   \n",
      "4      -0.096147  0.123017 -0.269223  0.229115 -0.041637 -0.070465 -0.198871   \n",
      "...          ...       ...       ...       ...       ...       ...       ...   \n",
      "153282 -0.341901 -0.307778  0.599235  0.580111 -0.033728 -0.038976 -0.274740   \n",
      "153283  1.284220  0.592979 -0.621695 -0.009792 -0.382274 -0.664959  0.836545   \n",
      "153284  0.454239  1.059110 -0.034778 -0.297135  0.171074 -0.324943 -0.719373   \n",
      "153285 -0.336121  0.218963  0.985771 -0.834321 -1.452110 -0.290119  0.341428   \n",
      "153286 -0.202946  0.004449 -0.403091  0.019818  1.420010 -1.087600  0.493069   \n",
      "\n",
      "            #B06      #B07      #B08  ...      #H05      #H06      #H07  \\\n",
      "0       1.672440 -2.526620 -9.000000  ...  0.430223 -0.690854  0.146688   \n",
      "1      -0.030758 -0.745675 -1.729910  ... -0.326454  2.779950 -0.827175   \n",
      "2      -2.648990  1.090920 -1.496180  ... -1.373100  0.273351 -0.550556   \n",
      "3      -1.143190 -0.024211  1.157120  ...  0.800052 -0.332309 -0.126167   \n",
      "4       0.206065 -0.289754  1.130150  ...  1.102720 -0.063383  0.437843   \n",
      "...          ...       ...       ...  ...       ...       ...       ...   \n",
      "153282 -0.276337  2.676090 -0.032354  ...  1.855850 -0.015132 -0.956053   \n",
      "153283 -0.166343 -0.713656 -0.458630  ... -0.359674  2.843780  0.804801   \n",
      "153284 -0.747009 -0.886229 -0.032354  ...  0.776017 -0.714900  0.387384   \n",
      "153285  0.215726 -0.041701 -0.881958  ... -0.226681  2.930420 -1.079880   \n",
      "153286  0.057705 -1.279380  0.715570  ...  1.337170 -1.219220  0.269421   \n",
      "\n",
      "            #H08      #H09  #I01  #I02  #I03  #I04      Value  \n",
      "0       0.822720  1.539380   1.0   1.0   1.0   0.0  54.487331  \n",
      "1      -0.456060  0.445250   0.0   0.0   0.0   1.0  63.351648  \n",
      "2       1.146150 -0.177612   1.0   0.0   0.0   1.0  27.984377  \n",
      "3      -0.719873 -0.906641   1.0   1.0   1.0   0.0  31.723970  \n",
      "4      -0.028178 -1.122100   1.0   0.0   1.0   0.0  20.746050  \n",
      "...          ...       ...   ...   ...   ...   ...        ...  \n",
      "153282 -0.353328 -0.841031   0.0   1.0   0.0   1.0  27.694972  \n",
      "153283 -1.319660 -0.828305   1.0   0.0   0.0   0.0  52.121633  \n",
      "153284  0.088953 -1.415750   0.0   1.0   1.0   1.0  44.816572  \n",
      "153285  0.883123  1.495370   1.0   1.0   0.0   1.0  44.493523  \n",
      "153286  0.402247  0.436917   1.0   0.0   1.0   1.0  24.630694  \n",
      "\n",
      "[153287 rows x 76 columns]\n"
     ]
    }
   ],
   "source": [
    "train_merged_noindex = train_merged_resetindex.drop(['Id'], axis=1)\n",
    "print(train_merged_noindex)"
   ]
  },
  {
   "cell_type": "code",
   "execution_count": 55,
   "id": "694b5cf3",
   "metadata": {},
   "outputs": [],
   "source": [
    "#Modeling [some code reused from project 2]\n",
    "from sklearn.linear_model import LinearRegression, SGDRegressor\n",
    "from sklearn.model_selection import train_test_split, cross_val_score, GridSearchCV\n",
    "from sklearn.metrics import mean_squared_error"
   ]
  },
  {
   "cell_type": "code",
   "execution_count": 56,
   "id": "c0ed8e19",
   "metadata": {},
   "outputs": [],
   "source": [
    "y = train_merged['Value'].copy()\n",
    "X = train_merged.drop(['Value'], axis=1).copy()"
   ]
  },
  {
   "cell_type": "code",
   "execution_count": 57,
   "id": "e93f0378",
   "metadata": {},
   "outputs": [],
   "source": [
    "x_train, x_test, y_train, y_test = train_test_split(X, y, train_size=0.75, test_size=0.25, random_state=32)"
   ]
  },
  {
   "cell_type": "code",
   "execution_count": 58,
   "id": "bf403fab",
   "metadata": {},
   "outputs": [],
   "source": [
    "#First a simple Linear Regression Test\n",
    "LinModel = LinearRegression().fit(x_train, y_train)"
   ]
  },
  {
   "cell_type": "code",
   "execution_count": 61,
   "id": "3cfcedd7",
   "metadata": {},
   "outputs": [],
   "source": [
    "Lin_predictions = LinModel.predict(x_test)\n"
   ]
  },
  {
   "cell_type": "code",
   "execution_count": 62,
   "id": "649bb578",
   "metadata": {},
   "outputs": [
    {
     "data": {
      "text/plain": [
       "8.112893460636878"
      ]
     },
     "execution_count": 62,
     "metadata": {},
     "output_type": "execute_result"
    }
   ],
   "source": [
    "mean_squared_error(y_test, Lin_predictions, squared=False)"
   ]
  },
  {
   "cell_type": "code",
   "execution_count": 85,
   "id": "a804c5c7",
   "metadata": {},
   "outputs": [],
   "source": [
    "Xtest_Lin_predictions = LinModel.predict(Xtest_filled)\n"
   ]
  },
  {
   "cell_type": "code",
   "execution_count": 65,
   "id": "cccf75db",
   "metadata": {},
   "outputs": [],
   "source": [
    "#Load the sample predictions\n",
    "pred = pd.read_csv('pred.txt', sep =\",\", index_col=0, dtype= {'Value': np.float64})        "
   ]
  },
  {
   "cell_type": "code",
   "execution_count": 68,
   "id": "8da89257",
   "metadata": {},
   "outputs": [
    {
     "name": "stdout",
     "output_type": "stream",
     "text": [
      "        prediction\n",
      "Id                \n",
      "1             10.0\n",
      "6             10.0\n",
      "9             10.0\n",
      "12            10.0\n",
      "13            10.0\n",
      "...            ...\n",
      "177717        10.0\n",
      "177718        10.0\n",
      "177726        10.0\n",
      "177728        10.0\n",
      "177731        10.0\n",
      "\n",
      "[50000 rows x 1 columns]\n"
     ]
    }
   ],
   "source": [
    "print(pred)"
   ]
  },
  {
   "cell_type": "code",
   "execution_count": 89,
   "id": "236c4e1e",
   "metadata": {},
   "outputs": [],
   "source": [
    "sassa_pred_1 = pred.copy()\n",
    "sassa_pred_1['prediction'] = Xtest_Lin_predictions"
   ]
  },
  {
   "cell_type": "code",
   "execution_count": 90,
   "id": "d7371dfc",
   "metadata": {},
   "outputs": [],
   "source": [
    "sassa_pred_1.to_csv('/Users/Jamie/sassa_pred_1.csv', index = True)"
   ]
  },
  {
   "cell_type": "code",
   "execution_count": null,
   "id": "0a4f037e",
   "metadata": {},
   "outputs": [],
   "source": [
    "#Xtrain_raw.sample\n",
    "sns.pairplot(Xtrain_raw.sample(n = 2, random_state=1), height = 2)"
   ]
  },
  {
   "cell_type": "code",
   "execution_count": 4,
   "id": "e23c0554",
   "metadata": {},
   "outputs": [
    {
     "data": {
      "text/plain": [
       "Value    10.656328\n",
       "dtype: float64"
      ]
     },
     "execution_count": 4,
     "metadata": {},
     "output_type": "execute_result"
    }
   ],
   "source": [
    "mu = Ytrain_raw.mean(axis=0)\n",
    "std = Ytrain_raw.std(axis=0)\n",
    "#mu\n",
    "std"
   ]
  },
  {
   "cell_type": "code",
   "execution_count": null,
   "id": "089a9c2e",
   "metadata": {},
   "outputs": [],
   "source": [
    "#Xtrain_raw_copy= Xtrain_raw.copy()\n",
    "#Xtrain_droppedNA = Xtrain_raw_copy.dropna()\n",
    "Xtrain_droppedNA = Xtrain_raw.dropna()\n"
   ]
  },
  {
   "cell_type": "code",
   "execution_count": null,
   "id": "bbe37c12",
   "metadata": {},
   "outputs": [],
   "source": [
    "hasattr(Xtrain_droppedNA, 'sample')"
   ]
  },
  {
   "cell_type": "code",
   "execution_count": null,
   "id": "c49366b8",
   "metadata": {},
   "outputs": [],
   "source": [
    "#scaler = StandardScaler()\n",
    "Xtrain_droppedNA = scaler.fit_transform(Xtrain_droppedNA)\n",
    "#df_numeric[df_numeric.columns] = scaler.fit_transform(df_numeric[df_numeric.columns])\n",
    "#print(Xtrain_droppedNA['#A01'].mean())\n",
    "#print(Xtrain_droppedNA['total'].std())\n",
    "\n",
    "plt.figure(figsize=(50,40))\n",
    "#cor = Xtrain_droppedNA.corr(method = 'pearson')\n",
    "#sns.heatmap(cor, annot=True, cmap=plt.cm.Reds)\n",
    "plt.show()\n",
    "\n",
    "sns.pairplot(Xtrain_droppedNA.sample(n = 110, random_state=1), height = 2)"
   ]
  }
 ],
 "metadata": {
  "kernelspec": {
   "display_name": "Python 3 (ipykernel)",
   "language": "python",
   "name": "python3"
  },
  "language_info": {
   "codemirror_mode": {
    "name": "ipython",
    "version": 3
   },
   "file_extension": ".py",
   "mimetype": "text/x-python",
   "name": "python",
   "nbconvert_exporter": "python",
   "pygments_lexer": "ipython3",
   "version": "3.9.7"
  }
 },
 "nbformat": 4,
 "nbformat_minor": 5
}
