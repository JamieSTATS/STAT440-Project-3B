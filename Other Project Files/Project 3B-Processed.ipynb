{
 "cells": [
  {
   "cell_type": "code",
   "execution_count": 142,
   "id": "99ee9434",
   "metadata": {},
   "outputs": [],
   "source": [
    "import pandas as pd\n",
    "import numpy as np\n",
    "import matplotlib.pyplot as plt\n",
    "%matplotlib inline\n",
    "from sklearn.preprocessing import StandardScaler\n",
    "import seaborn as sns\n",
    "from scipy import stats"
   ]
  },
  {
   "cell_type": "code",
   "execution_count": 143,
   "id": "e4b59618",
   "metadata": {},
   "outputs": [],
   "source": [
    "# https://stackoverflow.com/questions/21546739/load-data-from-txt-with-pandas\n",
    "#https://stackoverflow.com/questions/40011531/in-pandas-when-using-read-csv-how-to-assign-a-nan-to-a-value-thats-not-the\n",
    "\n",
    "\n",
    "\n",
    "# Read data, change missing values to 'NaN'\n",
    "\n",
    "Xtrain_raw = pd.read_csv('Xtrain.txt', sep =\" \", index_col=0, dtype='float64',\n",
    "                    na_values=['?','NaN'])\n",
    "Xtest_raw = pd.read_csv('Xtest.txt', sep =\" \", index_col=0, dtype='float64',\n",
    "                    na_values=['?','NaN'])\n",
    "\n",
    "Ytrain_raw = pd.read_csv('Ytrain.txt', sep =\",\", index_col=0, dtype='float64',\n",
    "                    na_values=['?','NaN'])"
   ]
  },
  {
   "cell_type": "code",
   "execution_count": 144,
   "id": "14c4ce45",
   "metadata": {},
   "outputs": [
    {
     "data": {
      "text/plain": [
       "(153287, 1)"
      ]
     },
     "execution_count": 144,
     "metadata": {},
     "output_type": "execute_result"
    }
   ],
   "source": [
    "Ytrain_raw.shape"
   ]
  },
  {
   "cell_type": "code",
   "execution_count": 145,
   "id": "fc90420d",
   "metadata": {},
   "outputs": [
    {
     "data": {
      "text/plain": [
       "(153287, 75)"
      ]
     },
     "execution_count": 145,
     "metadata": {},
     "output_type": "execute_result"
    }
   ],
   "source": [
    "Xtrain_raw.shape"
   ]
  },
  {
   "cell_type": "code",
   "execution_count": 146,
   "id": "afa8fdaf",
   "metadata": {},
   "outputs": [
    {
     "data": {
      "text/plain": [
       "(50000, 75)"
      ]
     },
     "execution_count": 146,
     "metadata": {},
     "output_type": "execute_result"
    }
   ],
   "source": [
    "Xtest_raw.shape\n",
    "#Xtest_raw.head"
   ]
  },
  {
   "cell_type": "code",
   "execution_count": 147,
   "id": "efdffb4f",
   "metadata": {},
   "outputs": [],
   "source": [
    "#https://stackoverflow.com/questions/51207491/function-to-replace-nan-values-in-a-dataframe-with-mean-of-the-related-column\n",
    "#Replace NaN with column means in Xtrain\n",
    "Xtrain_filled = Xtrain_raw.apply(lambda x: x.fillna(x.mean())) \n",
    "#print(Xtrain_filled.info())"
   ]
  },
  {
   "cell_type": "code",
   "execution_count": 148,
   "id": "9f62b7d6",
   "metadata": {},
   "outputs": [],
   "source": [
    "#Do the same for other data-sets\n",
    "\n",
    "Ytrain_filled = Ytrain_raw.apply(lambda x: x.fillna(x.mean())) \n",
    "Xtest_filled = Xtest_raw.apply(lambda x: x.fillna(x.mean())) "
   ]
  },
  {
   "cell_type": "code",
   "execution_count": 149,
   "id": "7b628bbb",
   "metadata": {},
   "outputs": [
    {
     "name": "stdout",
     "output_type": "stream",
     "text": [
      "X_filled shape:  (50000, 75)\n"
     ]
    }
   ],
   "source": [
    "#Concatenate the training and test sets and check to make sure that all observations from the dataset are there\n",
    "\n",
    "Xmerged_raw = pd.concat([Xtrain_raw, Xtest_raw])\n",
    "print('X_filled shape: ', Xtest_raw.shape)\n",
    "#Xmerged_raw.info()"
   ]
  },
  {
   "cell_type": "code",
   "execution_count": 150,
   "id": "cc2c5edb",
   "metadata": {},
   "outputs": [],
   "source": [
    "Xraw_sorted = Xmerged_raw.sort_index(axis=0)\n",
    "#Xraw_sorted.info()"
   ]
  },
  {
   "cell_type": "code",
   "execution_count": 151,
   "id": "213c1172",
   "metadata": {},
   "outputs": [],
   "source": [
    "#Drop the last ten rows (all -9 in test set)\n",
    "Xraw_clean=Xraw_sorted.drop(labels=[ '#H04', '#H05', '#H06', '#H07', '#H08', '#H09','#I01', '#I02', '#I03','#I04'], axis=1)\n",
    "#print(Xraw_clean)"
   ]
  },
  {
   "cell_type": "code",
   "execution_count": 152,
   "id": "3ac9f0f2",
   "metadata": {},
   "outputs": [],
   "source": [
    "#save as a csv file for use in R\n",
    "\n",
    "Xraw_clean.to_csv('/Users/Jamie/Xraw_clean.csv', index = True)\n",
    "\n"
   ]
  },
  {
   "cell_type": "code",
   "execution_count": 153,
   "id": "311153c9",
   "metadata": {},
   "outputs": [],
   "source": [
    "#Do the same for the component data sets\n",
    "\n",
    "Xtrain_clean=Xtrain_filled.drop(labels=[ '#H04', '#H05', '#H06', '#H07', '#H08', '#H09','#I01', '#I02', '#I03','#I04'], axis=1)\n",
    "Xtest_clean=Xtest_filled.drop(labels=[ '#H04', '#H05', '#H06', '#H07', '#H08', '#H09','#I01', '#I02', '#I03','#I04'], axis=1)"
   ]
  },
  {
   "cell_type": "code",
   "execution_count": 154,
   "id": "938f6e1f",
   "metadata": {},
   "outputs": [],
   "source": [
    "#Xfilled_sorted = Xraw_clean.apply(lambda x: x.fillna(x.mean()))\n",
    "#Xfilled_sorted.info"
   ]
  },
  {
   "cell_type": "code",
   "execution_count": 155,
   "id": "1ef2a52c",
   "metadata": {},
   "outputs": [],
   "source": [
    "#Merge training data sets\n",
    "train_merged= Xtrain_clean.merge(Ytrain_filled, how='left', on='Id')\n",
    "#print(train_merged)"
   ]
  },
  {
   "cell_type": "code",
   "execution_count": 156,
   "id": "6d0e513f",
   "metadata": {},
   "outputs": [],
   "source": [
    "#Remove the Id column and reset the index\n",
    "\n",
    "train_merged_resetindex = train_merged.reset_index()\n",
    "train_merged_noindex = train_merged_resetindex.drop(['Id'], axis=1)"
   ]
  },
  {
   "cell_type": "code",
   "execution_count": 157,
   "id": "ae56dba0",
   "metadata": {},
   "outputs": [],
   "source": [
    "#print(train_merged_noindex)"
   ]
  },
  {
   "cell_type": "code",
   "execution_count": 158,
   "id": "694b5cf3",
   "metadata": {},
   "outputs": [],
   "source": [
    "#Modeling \n",
    "#[some code based on code written for JAson Cao for project 2: train-test split and template for model fitting]\n",
    "#https://github.com/MikeZ77/STAT-440/blob/master/nft/jason/NFT_regression-template.ipynb]\n",
    "\n",
    "\n",
    "\n",
    "from sklearn.linear_model import LinearRegression, SGDRegressor,Ridge\n",
    "from sklearn.model_selection import train_test_split, cross_val_score, GridSearchCV\n",
    "from sklearn.metrics import mean_squared_error\n",
    "from sklearn.ensemble import AdaBoostRegressor"
   ]
  },
  {
   "cell_type": "code",
   "execution_count": 159,
   "id": "c0ed8e19",
   "metadata": {},
   "outputs": [],
   "source": [
    "\n",
    "y = train_merged['Value'].copy()\n",
    "X = train_merged.drop(['Value'], axis=1).copy()"
   ]
  },
  {
   "cell_type": "code",
   "execution_count": 160,
   "id": "e93f0378",
   "metadata": {},
   "outputs": [],
   "source": [
    "x_train, x_test, y_train, y_test = train_test_split(X, y, train_size=0.75, test_size=0.25, random_state=32)"
   ]
  },
  {
   "cell_type": "code",
   "execution_count": 161,
   "id": "e38d6e60",
   "metadata": {},
   "outputs": [],
   "source": [
    "#Try Ridge Regression"
   ]
  },
  {
   "cell_type": "code",
   "execution_count": 162,
   "id": "8c6dc00c",
   "metadata": {},
   "outputs": [],
   "source": [
    "# standardize for sample sets and Xtest\n",
    "scaler = StandardScaler()\n",
    "x_train = scaler.fit_transform(x_train)\n",
    "x_test = scaler.transform(x_test)\n",
    "Xtest_clean_transformed= scaler.transform(Xtest_clean)"
   ]
  },
  {
   "cell_type": "code",
   "execution_count": 163,
   "id": "c2c030ac",
   "metadata": {},
   "outputs": [],
   "source": [
    "RidgeModel = Ridge(alpha=20).fit(x_train, y_train)"
   ]
  },
  {
   "cell_type": "code",
   "execution_count": 164,
   "id": "b3ef4eea",
   "metadata": {},
   "outputs": [],
   "source": [
    "Ridge_predictions = RidgeModel.predict(x_test)"
   ]
  },
  {
   "cell_type": "code",
   "execution_count": 165,
   "id": "b905fa75",
   "metadata": {},
   "outputs": [
    {
     "data": {
      "text/plain": [
       "9.64121745271793"
      ]
     },
     "execution_count": 165,
     "metadata": {},
     "output_type": "execute_result"
    }
   ],
   "source": [
    "mean_squared_error(y_test, Ridge_predictions, squared=False)"
   ]
  },
  {
   "cell_type": "code",
   "execution_count": 166,
   "id": "d0a61fd6",
   "metadata": {},
   "outputs": [],
   "source": [
    "\n",
    "ridge_g_search = GridSearchCV(estimator = Ridge(), param_grid = {'alpha': [1.0, 2.0, 3.0, 6.0, 10, 15, 20, 30, 50, 60]}, cv = 3, n_jobs = 1, verbose = 2, return_train_score=True)"
   ]
  },
  {
   "cell_type": "code",
   "execution_count": 167,
   "id": "1a4e6e92",
   "metadata": {},
   "outputs": [
    {
     "name": "stdout",
     "output_type": "stream",
     "text": [
      "Fitting 3 folds for each of 10 candidates, totalling 30 fits\n",
      "[CV] END ..........................................alpha=1.0; total time=   0.1s\n",
      "[CV] END ..........................................alpha=1.0; total time=   0.1s\n",
      "[CV] END ..........................................alpha=1.0; total time=   0.1s\n",
      "[CV] END ..........................................alpha=2.0; total time=   0.1s\n",
      "[CV] END ..........................................alpha=2.0; total time=   0.1s\n",
      "[CV] END ..........................................alpha=2.0; total time=   0.2s\n",
      "[CV] END ..........................................alpha=3.0; total time=   0.1s\n",
      "[CV] END ..........................................alpha=3.0; total time=   0.1s\n",
      "[CV] END ..........................................alpha=3.0; total time=   0.3s\n",
      "[CV] END ..........................................alpha=6.0; total time=   0.2s\n",
      "[CV] END ..........................................alpha=6.0; total time=   0.3s\n",
      "[CV] END ..........................................alpha=6.0; total time=   0.4s\n",
      "[CV] END ...........................................alpha=10; total time=   0.3s\n",
      "[CV] END ...........................................alpha=10; total time=   0.1s\n",
      "[CV] END ...........................................alpha=10; total time=   0.2s\n",
      "[CV] END ...........................................alpha=15; total time=   0.3s\n",
      "[CV] END ...........................................alpha=15; total time=   0.2s\n",
      "[CV] END ...........................................alpha=15; total time=   0.1s\n",
      "[CV] END ...........................................alpha=20; total time=   0.1s\n",
      "[CV] END ...........................................alpha=20; total time=   0.1s\n",
      "[CV] END ...........................................alpha=20; total time=   0.1s\n",
      "[CV] END ...........................................alpha=30; total time=   0.1s\n",
      "[CV] END ...........................................alpha=30; total time=   0.2s\n",
      "[CV] END ...........................................alpha=30; total time=   0.1s\n",
      "[CV] END ...........................................alpha=50; total time=   0.1s\n",
      "[CV] END ...........................................alpha=50; total time=   0.1s\n",
      "[CV] END ...........................................alpha=50; total time=   0.1s\n",
      "[CV] END ...........................................alpha=60; total time=   0.1s\n",
      "[CV] END ...........................................alpha=60; total time=   0.1s\n",
      "[CV] END ...........................................alpha=60; total time=   0.1s\n",
      "{'alpha': 60}\n"
     ]
    }
   ],
   "source": [
    "ridge_g_search.fit(x_train, y_train);\n",
    "print(ridge_g_search.best_params_)"
   ]
  },
  {
   "cell_type": "code",
   "execution_count": 168,
   "id": "37559516",
   "metadata": {},
   "outputs": [],
   "source": [
    "RidgeModel = Ridge(alpha=20).fit(x_train, y_train)"
   ]
  },
  {
   "cell_type": "code",
   "execution_count": 169,
   "id": "4e552375",
   "metadata": {},
   "outputs": [],
   "source": [
    "Ridge_predictions = RidgeModel.predict(x_test)"
   ]
  },
  {
   "cell_type": "code",
   "execution_count": 170,
   "id": "55ce3f78",
   "metadata": {},
   "outputs": [
    {
     "data": {
      "text/plain": [
       "9.64121745271793"
      ]
     },
     "execution_count": 170,
     "metadata": {},
     "output_type": "execute_result"
    }
   ],
   "source": [
    "mean_squared_error(y_test, Ridge_predictions, squared=False)"
   ]
  },
  {
   "cell_type": "code",
   "execution_count": 171,
   "id": "9d9a0356",
   "metadata": {},
   "outputs": [],
   "source": [
    "#Try Stochastic Gradient Descent"
   ]
  },
  {
   "cell_type": "code",
   "execution_count": 172,
   "id": "f247d80b",
   "metadata": {},
   "outputs": [],
   "source": [
    "SGDtest = SGDRegressor(loss = 'huber', alpha = 0.000001, epsilon = 0).fit(x_train, y_train)"
   ]
  },
  {
   "cell_type": "code",
   "execution_count": 173,
   "id": "bae00e8e",
   "metadata": {},
   "outputs": [],
   "source": [
    "SGD_test_predictions = SGDtest.predict(x_test)"
   ]
  },
  {
   "cell_type": "code",
   "execution_count": 174,
   "id": "c3d8d7c1",
   "metadata": {},
   "outputs": [
    {
     "data": {
      "text/plain": [
       "42.34306606129916"
      ]
     },
     "execution_count": 174,
     "metadata": {},
     "output_type": "execute_result"
    }
   ],
   "source": [
    "mean_squared_error(y_test, SGD_test_predictions, squared=False)"
   ]
  },
  {
   "cell_type": "code",
   "execution_count": 175,
   "id": "4bb0d179",
   "metadata": {},
   "outputs": [],
   "source": [
    "param_grid = {'alpha':[0.1, 0.001,],\n",
    "              'learning_rate':['adaptive'],\n",
    "              'max_iter':[400, 600],\n",
    "              'penalty':['l2','l1','elasticnet'],\n",
    "              'loss':['huber', 'squared_epsilon_insensitive', 'squared_error'],\n",
    "              'eta0': [0.01, 1, 10]}"
   ]
  },
  {
   "cell_type": "code",
   "execution_count": 176,
   "id": "0efa046b",
   "metadata": {},
   "outputs": [],
   "source": [
    "sgd_ = SGDRegressor(random_state = 1)\n",
    "g_search = GridSearchCV(estimator = sgd_, param_grid = param_grid, cv = 3, n_jobs = 1, verbose = 2, return_train_score=True)"
   ]
  },
  {
   "cell_type": "code",
   "execution_count": 177,
   "id": "d8d5b924",
   "metadata": {},
   "outputs": [],
   "source": [
    "#g_search.fit(x_train, y_train);\n",
    "#print(g_search.best_params_)"
   ]
  },
  {
   "cell_type": "code",
   "execution_count": 178,
   "id": "9466bd67",
   "metadata": {},
   "outputs": [],
   "source": [
    "sgdtest = SGDRegressor(alpha = 0.001, learning_rate= 'adaptive', loss = 'squared_epsilon_insensitive', max_iter= 400 ).fit(x_train, y_train)"
   ]
  },
  {
   "cell_type": "code",
   "execution_count": 179,
   "id": "ca26a9e9",
   "metadata": {},
   "outputs": [],
   "source": [
    "SGD_test_predictions = sgdtest.predict(x_test)"
   ]
  },
  {
   "cell_type": "code",
   "execution_count": 180,
   "id": "8aa43c2a",
   "metadata": {},
   "outputs": [
    {
     "data": {
      "text/plain": [
       "9.641046549127175"
      ]
     },
     "execution_count": 180,
     "metadata": {},
     "output_type": "execute_result"
    }
   ],
   "source": [
    "mean_squared_error(y_test, SGD_test_predictions, squared=False)"
   ]
  },
  {
   "cell_type": "code",
   "execution_count": 181,
   "id": "25303623",
   "metadata": {},
   "outputs": [],
   "source": [
    "#Try Adaboost"
   ]
  },
  {
   "cell_type": "code",
   "execution_count": 182,
   "id": "1999c599",
   "metadata": {},
   "outputs": [],
   "source": [
    "ABregr = AdaBoostRegressor(random_state=1, loss='square', n_estimators=80, learning_rate=0.01)\n",
    "ABModel = ABregr.fit(x_train, y_train)"
   ]
  },
  {
   "cell_type": "code",
   "execution_count": 183,
   "id": "35523cb9",
   "metadata": {},
   "outputs": [],
   "source": [
    "AB_test_predictions = ABModel.predict(x_test)"
   ]
  },
  {
   "cell_type": "code",
   "execution_count": 184,
   "id": "1860bfbd",
   "metadata": {},
   "outputs": [
    {
     "data": {
      "text/plain": [
       "10.08978372421733"
      ]
     },
     "execution_count": 184,
     "metadata": {},
     "output_type": "execute_result"
    }
   ],
   "source": [
    "mean_squared_error(y_test, AB_test_predictions, squared=False)"
   ]
  },
  {
   "cell_type": "code",
   "execution_count": 185,
   "id": "c54aa67e",
   "metadata": {},
   "outputs": [],
   "source": [
    "param_grid = {'random_state':[1], 'n_estimators':[80],\n",
    "              'learning_rate':[.01, 0.5, 1.0, 3.0],\n",
    "              'loss':['linear', 'square', 'exponential']}"
   ]
  },
  {
   "cell_type": "code",
   "execution_count": 186,
   "id": "bd77e30f",
   "metadata": {},
   "outputs": [],
   "source": [
    "ab_ = AdaBoostRegressor(random_state = 1)\n",
    "ABg_search = GridSearchCV(estimator = ab_, param_grid = param_grid, cv = 3, n_jobs = 1, verbose = 2, return_train_score=True)"
   ]
  },
  {
   "cell_type": "code",
   "execution_count": 187,
   "id": "142dd8f4",
   "metadata": {},
   "outputs": [],
   "source": [
    "#ABg_search.fit(x_train, y_train);\n",
    "#print(ABg_search.best_params_)"
   ]
  },
  {
   "cell_type": "code",
   "execution_count": 188,
   "id": "70c60c94",
   "metadata": {},
   "outputs": [],
   "source": [
    "ABregr = AdaBoostRegressor(random_state=1, loss='square', n_estimators=80, learning_rate=0.01)\n",
    "ABModel = ABregr.fit(x_train, y_train)"
   ]
  },
  {
   "cell_type": "code",
   "execution_count": 189,
   "id": "c6e503fd",
   "metadata": {},
   "outputs": [],
   "source": [
    "AB_test_predictions = ABModel.predict(x_test)"
   ]
  },
  {
   "cell_type": "code",
   "execution_count": 190,
   "id": "8335d4d1",
   "metadata": {},
   "outputs": [
    {
     "data": {
      "text/plain": [
       "10.08978372421733"
      ]
     },
     "execution_count": 190,
     "metadata": {},
     "output_type": "execute_result"
    }
   ],
   "source": [
    "mean_squared_error(y_test, AB_test_predictions, squared=False)"
   ]
  },
  {
   "cell_type": "code",
   "execution_count": 191,
   "id": "fd783207",
   "metadata": {},
   "outputs": [],
   "source": [
    "SGD_predictions = sgdtest.predict(Xtest_clean_transformed)"
   ]
  },
  {
   "cell_type": "code",
   "execution_count": 192,
   "id": "3c1544ec",
   "metadata": {},
   "outputs": [],
   "source": [
    "AB_predictions = ABModel.predict(Xtest_clean_transformed)"
   ]
  },
  {
   "cell_type": "code",
   "execution_count": 193,
   "id": "cccf75db",
   "metadata": {},
   "outputs": [],
   "source": [
    "#Load the sample predictions\n",
    "pred = pd.read_csv('pred.txt', sep =\",\", index_col=0, dtype= {'Value': np.float64})        "
   ]
  },
  {
   "cell_type": "code",
   "execution_count": 194,
   "id": "8c5d9b8c",
   "metadata": {},
   "outputs": [],
   "source": [
    "#print(pred)"
   ]
  },
  {
   "cell_type": "code",
   "execution_count": 195,
   "id": "7abc25cb",
   "metadata": {},
   "outputs": [],
   "source": [
    "#Now Generate predictions for SGD\n",
    "\n",
    "sassa_pred_2 = pred.copy()\n",
    "sassa_pred_2['prediction'] = SGD_predictions\n",
    "sassa_pred_2.to_csv('/Users/Jamie/sassa_pred_2.csv', index = True)"
   ]
  },
  {
   "cell_type": "code",
   "execution_count": 196,
   "id": "145ea5e1",
   "metadata": {},
   "outputs": [],
   "source": [
    "#Now Generate predictions for AdaBoost\n",
    "\n",
    "sassa_pred_3 = pred.copy()\n",
    "sassa_pred_3['prediction'] = AB_predictions\n",
    "sassa_pred_3.to_csv('/Users/Jamie/sassa_pred_3.csv', index = True)"
   ]
  },
  {
   "cell_type": "code",
   "execution_count": null,
   "id": "06c9b7f0",
   "metadata": {},
   "outputs": [],
   "source": []
  }
 ],
 "metadata": {
  "kernelspec": {
   "display_name": "Python 3 (ipykernel)",
   "language": "python",
   "name": "python3"
  },
  "language_info": {
   "codemirror_mode": {
    "name": "ipython",
    "version": 3
   },
   "file_extension": ".py",
   "mimetype": "text/x-python",
   "name": "python",
   "nbconvert_exporter": "python",
   "pygments_lexer": "ipython3",
   "version": "3.9.7"
  }
 },
 "nbformat": 4,
 "nbformat_minor": 5
}
